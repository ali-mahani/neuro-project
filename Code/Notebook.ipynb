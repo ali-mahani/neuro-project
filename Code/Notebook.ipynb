{
 "cells": [
  {
   "cell_type": "code",
   "execution_count": 35,
   "metadata": {},
   "outputs": [],
   "source": [
    "using ProgressMeter, JLD, Statistics, MAT, Plots, StatsPlots, LaTeXStrings\n",
    "\n",
    "\n",
    "Plots.default(titlefontsize = 12, tickfontsize = 8, labelfontsize = 10,\n",
    "    fontfamily = \"Computer Modern\", frame = :box, label = nothing)\n",
    "\n",
    "figpath = \"../Assets/\"\n",
    "\n",
    "fileIn = matopen(\"i140703-001_lfp-spikes.mat\")\n",
    "Data = read(fileIn)\n",
    "close(fileIn)"
   ]
  },
  {
   "cell_type": "code",
   "execution_count": null,
   "metadata": {},
   "outputs": [],
   "source": [
    "events = Data[\"block\"][\"segments\"][1][\"events\"][1]\n",
    "\n",
    "TS_ON = events[\"times\"][findall(x -> x == \"65296\", events[\"labels\"])] ./ 30000\n",
    "WS_ON = events[\"times\"][findall(x -> x == \"65360\", events[\"labels\"])][1:2:end] ./ 30000\n",
    "CUE_ON = events[\"times\"][findall(x -> x == \"65365\" || x == \"65370\", events[\"labels\"])] ./ 30000\n",
    "CUE_OFF = events[\"times\"][findall(x -> x == \"65360\", events[\"labels\"])][2:2:end] ./ 30000\n",
    "GO_ON = events[\"times\"][findall(x -> x == \"65369\" || x == \"65366\", events[\"labels\"])] ./ 30000\n",
    "SR = events[\"times\"][findall(x -> x == \"65385\" || x == \"65382\", events[\"labels\"])] ./ 30000\n",
    "RW_ON = events[\"times\"][findall(x -> x == \"65509\" || x == \"65514\", events[\"labels\"])] ./ 30000\n",
    "GO_RW_OFF = events[\"times\"][findall(x -> x == \"65376\", events[\"labels\"])] ./ 30000\n",
    "STOP = events[\"times\"][findall(x -> x == \"65312\", events[\"labels\"])] ./ 30000\n",
    "spiketrains = [Data[\"block\"][\"segments\"][1, 1][\"spiketrains\"][i][\"times\"][:] for i ∈ 1:271] / 30000"
   ]
  },
  {
   "cell_type": "code",
   "execution_count": null,
   "metadata": {},
   "outputs": [],
   "source": [
    "Prog = Progress(271 * length(TS_ON))\n",
    "cutspiketrains = []\n",
    "for i ∈ 1:271\n",
    "    for j ∈ 1:length(TS_ON)\n",
    "        indices = findall(x -> x > [[0.0]; TS_ON][j] && x < [[0.0]; TS_ON][j+1], spiketrains[i])\n",
    "        push!(cutspiketrains, [(i, TS_ON[j] - spiketrains[i][n]) for n ∈ indices]...)\n",
    "        next!(Prog)\n",
    "    end\n",
    "end\n",
    "\n",
    "save(\"cutspiketrains.jld\", \"cutspiketrains\", cutspiketrains)"
   ]
  },
  {
   "cell_type": "code",
   "execution_count": null,
   "metadata": {},
   "outputs": [],
   "source": [
    "cutspiketrains = load(\"cutspiketrains.jld\")[\"cutspiketrains\"]"
   ]
  },
  {
   "cell_type": "code",
   "execution_count": 4,
   "metadata": {},
   "outputs": [],
   "source": [
    "spiketraintrials = Vector{Vector{Vector{Float64}}}(undef, 0)\n",
    "\n",
    "for i ∈ 1:length(TS_ON)\n",
    "    tineurons = Vector{Vector{Float64}}(undef, 0)\n",
    "    for j ∈ 1:271\n",
    "        indices = findall(x -> x > [[0.0]; TS_ON][i] && x < [[0.0]; TS_ON][i+1], spiketrains[j])\n",
    "        push!(tineurons, spiketrains[j][indices])\n",
    "    end\n",
    "    push!(spiketraintrials, tineurons)\n",
    "end"
   ]
  },
  {
   "cell_type": "code",
   "execution_count": 5,
   "metadata": {},
   "outputs": [],
   "source": [
    "cut_TS_ON = []\n",
    "\n",
    "for j ∈ 1:271\n",
    "    push!(cut_TS_ON, (j, 0))\n",
    "end\n"
   ]
  },
  {
   "cell_type": "code",
   "execution_count": 6,
   "metadata": {},
   "outputs": [],
   "source": [
    "\n",
    "cut_WS_ON = []\n",
    "\n",
    "for i ∈ 1:length(TS_ON)\n",
    "    indices = findall(x -> x > [[0.0]; TS_ON][i] && x < [[0.0]; TS_ON][i+1], WS_ON)\n",
    "    for j ∈ 1:271\n",
    "        push!(cut_WS_ON, [(j, TS_ON[i] - WS_ON[n]) for n ∈ indices]...)\n",
    "    end\n",
    "end\n"
   ]
  },
  {
   "cell_type": "code",
   "execution_count": 7,
   "metadata": {},
   "outputs": [],
   "source": [
    "\n",
    "cut_CUE_ON = []\n",
    "\n",
    "for i ∈ 1:length(TS_ON)\n",
    "    indices = findall(x -> x > [[0.0]; TS_ON][i] && x < [[0.0]; TS_ON][i+1], CUE_ON)\n",
    "    for j ∈ 1:271\n",
    "        push!(cut_CUE_ON, [(j, TS_ON[i] - CUE_ON[n]) for n ∈ indices]...)\n",
    "    end\n",
    "end\n"
   ]
  },
  {
   "cell_type": "code",
   "execution_count": 8,
   "metadata": {},
   "outputs": [],
   "source": [
    "\n",
    "cut_CUE_OFF = []\n",
    "\n",
    "for i ∈ 1:length(TS_ON)\n",
    "    indices = findall(x -> x > [[0.0]; TS_ON][i] && x < [[0.0]; TS_ON][i+1], CUE_OFF)\n",
    "    for j ∈ 1:271\n",
    "        push!(cut_CUE_OFF, [(j, TS_ON[i] - CUE_OFF[n]) for n ∈ indices]...)\n",
    "    end\n",
    "end\n"
   ]
  },
  {
   "cell_type": "code",
   "execution_count": 9,
   "metadata": {},
   "outputs": [],
   "source": [
    "\n",
    "cut_GO_ON = []\n",
    "\n",
    "for i ∈ 1:length(TS_ON)\n",
    "    indices = findall(x -> x > [[0.0]; TS_ON][i] && x < [[0.0]; TS_ON][i+1], GO_ON)\n",
    "    for j ∈ 1:271\n",
    "        push!(cut_GO_ON, [(j, TS_ON[i] - GO_ON[n]) for n ∈ indices]...)\n",
    "    end\n",
    "end\n"
   ]
  },
  {
   "cell_type": "code",
   "execution_count": 10,
   "metadata": {},
   "outputs": [],
   "source": [
    "\n",
    "cut_CUE_OFF = []\n",
    "\n",
    "for i ∈ 1:length(TS_ON)\n",
    "    indices = findall(x -> x > [[0.0]; TS_ON][i] && x < [[0.0]; TS_ON][i+1], CUE_OFF)\n",
    "    for j ∈ 1:271\n",
    "        push!(cut_CUE_OFF, [(j, TS_ON[i] - CUE_OFF[n]) for n ∈ indices]...)\n",
    "    end\n",
    "end\n"
   ]
  },
  {
   "cell_type": "code",
   "execution_count": 11,
   "metadata": {},
   "outputs": [],
   "source": [
    "\n",
    "cut_SR = []\n",
    "\n",
    "for i ∈ 1:length(TS_ON)\n",
    "    indices = findall(x -> x > [[0.0]; TS_ON][i] && x < [[0.0]; TS_ON][i+1], SR)\n",
    "    for j ∈ 1:271\n",
    "        push!(cut_SR, [(j, TS_ON[i] - SR[n]) for n ∈ indices]...)\n",
    "    end\n",
    "end\n"
   ]
  },
  {
   "cell_type": "code",
   "execution_count": 12,
   "metadata": {},
   "outputs": [],
   "source": [
    "\n",
    "cut_RW_ON = []\n",
    "\n",
    "for i ∈ 1:length(TS_ON)\n",
    "    indices = findall(x -> x > [[0.0]; TS_ON][i] && x < [[0.0]; TS_ON][i+1], RW_ON)\n",
    "    for j ∈ 1:271\n",
    "        push!(cut_RW_ON, [(j, TS_ON[i] - RW_ON[n]) for n ∈ indices]...)\n",
    "    end\n",
    "end\n"
   ]
  },
  {
   "cell_type": "code",
   "execution_count": 13,
   "metadata": {},
   "outputs": [],
   "source": [
    "\n",
    "cut_GO_RW_OFF = []\n",
    "\n",
    "for i ∈ 1:length(TS_ON)\n",
    "    indices = findall(x -> x > [[0.0]; TS_ON][i] && x < [[0.0]; TS_ON][i+1], GO_RW_OFF)\n",
    "    for j ∈ 1:271\n",
    "        push!(cut_GO_RW_OFF, [(j, TS_ON[i] - GO_RW_OFF[n]) for n ∈ indices]...)\n",
    "    end\n",
    "end\n"
   ]
  },
  {
   "cell_type": "code",
   "execution_count": 14,
   "metadata": {},
   "outputs": [],
   "source": [
    "\n",
    "cut_STOP = []\n",
    "\n",
    "for i ∈ 1:length(TS_ON)\n",
    "    indices = findall(x -> x > [[0.0]; TS_ON][i] && x < [[0.0]; TS_ON][i+1], STOP)\n",
    "    for j ∈ 1:271\n",
    "        push!(cut_STOP, [(j, TS_ON[i] - STOP[n]) for n ∈ indices]...)\n",
    "    end\n",
    "end"
   ]
  },
  {
   "cell_type": "code",
   "execution_count": 8,
   "metadata": {},
   "outputs": [],
   "source": [
    "scatter(getindex.(cutspiketrains, 2), getindex.(cutspiketrains, 1), marker = :vline, c = :black, alpha = 0.005)\n",
    "plot!(xlabel = \"Time(s)\", ylabel = \"Neuron\", title = \"Raster Plot of all the trials\")\n",
    "savefig(figpath * \"TotRasterPlot.pdf\")"
   ]
  },
  {
   "cell_type": "code",
   "execution_count": 9,
   "metadata": {},
   "outputs": [],
   "source": [
    "histogram(getindex.(cutspiketrains, 2), normalize = true, c = :black)\n",
    "plot!(title = \"PSTH Plot of all the trials\", xlabel = \"Time(s)\", ylabel = \"rate\")\n",
    "savefig(figpath * \"TotPSTHPlot.pdf\")"
   ]
  },
  {
   "cell_type": "code",
   "execution_count": 62,
   "metadata": {},
   "outputs": [],
   "source": [
    "histogram(getindex.(ShiftedTrials, 1), normalized = true, alpha = 0.65, label = \"WS_ON\")\n",
    "histogram!(getindex.(ShiftedTrials, 2), normalized = true, alpha = 0.65, label = \"CUE_ON\")\n",
    "histogram!(getindex.(ShiftedTrials, 3), normalized = true, alpha = 0.65, label = \"CUE_OFF\")\n",
    "histogram!(getindex.(ShiftedTrials, 4), normalized = true, alpha = 0.65, label = \"GO_ON\")\n",
    "histogram!(getindex.(ShiftedTrials, 5), normalized = true, alpha = 0.65, label = \"SR\")\n",
    "histogram!(getindex.(ShiftedTrials, 6), normalized = true, alpha = 0.65, label = \"RW_ON\")\n",
    "histogram!(getindex.(ShiftedTrials, 7), normalized = true, alpha = 0.65, label = \"STOP\")\n",
    "plot!(title = \"Distribution of events\", xlabel = \"Time(s)\", ylabel = \"rate\")\n",
    "savefig(figpath * \"EvDist.pdf\")"
   ]
  },
  {
   "cell_type": "code",
   "execution_count": 31,
   "metadata": {},
   "outputs": [],
   "source": [
    "CompleteTrials = []\n",
    "ShiftedTrials = []\n",
    "\n",
    "for i ∈ 1:length(TS_ON)\n",
    "    i1 = findfirst(x -> x > [[0.0]; TS_ON][i] && x < [[0.0]; TS_ON][i+1], WS_ON)\n",
    "    i2 = findfirst(x -> x > [[0.0]; TS_ON][i] && x < [[0.0]; TS_ON][i+1], CUE_ON)\n",
    "    i3 = findfirst(x -> x > [[0.0]; TS_ON][i] && x < [[0.0]; TS_ON][i+1], CUE_OFF)\n",
    "    i4 = findfirst(x -> x > [[0.0]; TS_ON][i] && x < [[0.0]; TS_ON][i+1], GO_ON)\n",
    "    i5 = findfirst(x -> x > [[0.0]; TS_ON][i] && x < [[0.0]; TS_ON][i+1], SR)\n",
    "    i6 = findfirst(x -> x > [[0.0]; TS_ON][i] && x < [[0.0]; TS_ON][i+1], RW_ON)\n",
    "    i7 = findfirst(x -> x > [[0.0]; TS_ON][i] && x < [[0.0]; TS_ON][i+1], STOP)\n",
    "    if nothing ∈ [i1, i2, i3, i4, i5, i6, i7]\n",
    "        continue\n",
    "    end\n",
    "    pushval1 = (i, TS_ON[i], WS_ON[i1], CUE_ON[i2], CUE_OFF[i3], GO_ON[i4], SR[i5], RW_ON[i6], STOP[i7])\n",
    "    pushval2 = (TS_ON[i] - WS_ON[i1], TS_ON[i] - CUE_ON[i2], TS_ON[i] - CUE_OFF[i3], TS_ON[i] - GO_ON[i4], TS_ON[i] - SR[i5], TS_ON[i] - RW_ON[i6], TS_ON[i] - STOP[i7])\n",
    "    push!(CompleteTrials, pushval1)\n",
    "    push!(ShiftedTrials, pushval2)\n",
    "end"
   ]
  },
  {
   "cell_type": "code",
   "execution_count": 40,
   "metadata": {},
   "outputs": [],
   "source": [
    "Plts = Plots.Plot{Plots.GRBackend}[]\n",
    "\n",
    "for Trial ∈ 1:length(CompleteTrials)\n",
    "    p = plot()\n",
    "    for i ∈ 1:271\n",
    "        scatter!(p, spiketraintrials[CompleteTrials[Trial][1]][i], fill(i, length(spiketraintrials[CompleteTrials[Trial][1]][i])), marker = :vline, c = :black, alpha = 0.35)\n",
    "        plot!(p, title = \"Raster Plot\\n trial n = $(CompleteTrials[Trial][1])\")\n",
    "    end\n",
    "    plot!(p, [CompleteTrials[Trial][2], CompleteTrials[Trial][2]], [0, 271], lw = 3, label = \"WS_ON\")\n",
    "    plot!(p, [CompleteTrials[Trial][3], CompleteTrials[Trial][3]], [0, 271], lw = 3, label = \"CUE_ON\")\n",
    "    plot!(p, [CompleteTrials[Trial][4], CompleteTrials[Trial][4]], [0, 271], lw = 3, label = \"CUE_OFF\")\n",
    "    plot!(p, [CompleteTrials[Trial][5], CompleteTrials[Trial][5]], [0, 271], lw = 3, label = \"GO_ON\")\n",
    "    plot!(p, [CompleteTrials[Trial][6], CompleteTrials[Trial][6]], [0, 271], lw = 3, label = \"SR\")\n",
    "    plot!(p, [CompleteTrials[Trial][7], CompleteTrials[Trial][7]], [0, 271], lw = 3, label = \"RW_ON\")\n",
    "    plot!(p, [CompleteTrials[Trial][8], CompleteTrials[Trial][8]], [0, 271], lw = 3, label = \"STOP\")\n",
    "    push!(Plts, p)\n",
    "end"
   ]
  },
  {
   "cell_type": "code",
   "execution_count": 38,
   "metadata": {},
   "outputs": [],
   "source": [
    "for plt ∈ 1:length(Plts)\n",
    "    savefig(Plts[plt], figpath * \"SPK$plt.pdf\")\n",
    "end"
   ]
  },
  {
   "cell_type": "code",
   "execution_count": 40,
   "metadata": {},
   "outputs": [],
   "source": [
    "scatter(getindex.(cutspiketrains, 2), getindex.(cutspiketrains, 1), marker = :vline, c = :black, alpha = 0.01)\n",
    "\n",
    "scatter!(getindex.(cut_TS_ON, 2), getindex.(cut_TS_ON, 1), marker = :vline, c = :red, ms = 5, label = \"TS_ON\")\n",
    "\n",
    "scatter!(getindex.(cut_WS_ON, 2), getindex.(cut_WS_ON, 1), marker = :vline, c = :green, label = \"WS_ON\")\n",
    "\n",
    "scatter!(getindex.(cut_CUE_OFF, 2), getindex.(cut_CUE_OFF, 1), marker = :vline, c = :blue, label = \"CUE_OFF\")\n",
    "\n",
    "scatter!(getindex.(cut_GO_ON, 2), getindex.(cut_GO_ON, 1), marker = :vline, c = :purple, label = \"GO_ON\")\n",
    "\n",
    "scatter!(getindex.(cut_SR, 2), getindex.(cut_SR, 1), marker = :vline, c = :brown, label = \"SR\")\n",
    "\n",
    "scatter!(getindex.(cut_RW_ON, 2), getindex.(cut_RW_ON, 1), marker = :vline, c = :orange, label = \"RW_ON\")\n",
    "\n",
    "scatter!(getindex.(cut_GO_RW_OFF, 2), getindex.(cut_GO_RW_OFF, 1), marker = :vline, c = :yellow, label = \"GO_RW_OFF\")\n",
    "\n",
    "scatter!(getindex.(cut_STOP, 2), getindex.(cut_STOP, 1), marker = :vline, c = :black, label = \"STOP\")\n",
    "\n",
    "plot!(xlabel = \"Time(s)\", ylabel = \"Neuron\", title = \"Raster Plot of all the trials\")\n",
    "savefig(figpath * \"TotRasterPlot2.pdf\")"
   ]
  },
  {
   "cell_type": "code",
   "execution_count": 45,
   "metadata": {},
   "outputs": [],
   "source": [
    "FF = Float64[]\n",
    "\n",
    "Tspan = range(0.01, 9; length = 100)\n",
    "\n",
    "for T ∈ Tspan\n",
    "    indices = findall(x -> x < T, getindex.(cutspiketrains, 2))\n",
    "    vals = getindex.(cutspiketrains, 2)[indices]\n",
    "    push!(FF, var(vals) / mean(vals))\n",
    "end"
   ]
  },
  {
   "cell_type": "code",
   "execution_count": 55,
   "metadata": {},
   "outputs": [],
   "source": [
    "plot(Tspan, FF, title = \"Fano factor\", xlabel = \"T(s)\", ylabel = L\"f_{\\tau}(T)\", c = :black, lw = 3)\n",
    "savefig(figpath * \"FF.pdf\")"
   ]
  },
  {
   "cell_type": "code",
   "execution_count": null,
   "metadata": {},
   "outputs": [],
   "source": [
    "PG_ON = events[\"times\"][findall(x -> x == \"65365\", events[\"labels\"])] ./ 30000\n",
    "SG_ON = events[\"times\"][findall(x -> x == \"65370\", events[\"labels\"])] ./ 30000\n",
    "LF_ON = events[\"times\"][findall(x -> x == \"65369\", events[\"labels\"])] ./ 30000\n",
    "HF_ON = events[\"times\"][findall(x -> x == \"65366\", events[\"labels\"])] ./ 30000"
   ]
  },
  {
   "cell_type": "code",
   "execution_count": 53,
   "metadata": {},
   "outputs": [],
   "source": [
    "PG_LF = []\n",
    "PG_HF = []\n",
    "SG_LF = []\n",
    "SG_HF = []\n",
    "\n",
    "for i ∈ 1:length(TS_ON)\n",
    "    i1 = findfirst(x -> x > [[0.0]; TS_ON][i] && x < [[0.0]; TS_ON][i+1], WS_ON)\n",
    "    i2 = findfirst(x -> x > [[0.0]; TS_ON][i] && x < [[0.0]; TS_ON][i+1], CUE_ON)\n",
    "    i3 = findfirst(x -> x > [[0.0]; TS_ON][i] && x < [[0.0]; TS_ON][i+1], CUE_OFF)\n",
    "    i4 = findfirst(x -> x > [[0.0]; TS_ON][i] && x < [[0.0]; TS_ON][i+1], GO_ON)\n",
    "    i5 = findfirst(x -> x > [[0.0]; TS_ON][i] && x < [[0.0]; TS_ON][i+1], SR)\n",
    "    i6 = findfirst(x -> x > [[0.0]; TS_ON][i] && x < [[0.0]; TS_ON][i+1], RW_ON)\n",
    "    i7 = findfirst(x -> x > [[0.0]; TS_ON][i] && x < [[0.0]; TS_ON][i+1], STOP)\n",
    "    if nothing ∈ [i1, i2, i3, i4, i5, i6, i7]\n",
    "        continue\n",
    "    end\n",
    "    i_PG = findfirst(x -> x > [[0.0]; TS_ON][i] && x < [[0.0]; TS_ON][i+1], PG_ON)\n",
    "    i_SG = findfirst(x -> x > [[0.0]; TS_ON][i] && x < [[0.0]; TS_ON][i+1], SG_ON)\n",
    "    i_LF = findfirst(x -> x > [[0.0]; TS_ON][i] && x < [[0.0]; TS_ON][i+1], LF_ON)\n",
    "    i_HF = findfirst(x -> x > [[0.0]; TS_ON][i] && x < [[0.0]; TS_ON][i+1], HF_ON)\n",
    "\n",
    "    if i_PG != nothing && i_LF != nothing\n",
    "        pushval = (i, [[0.0] ; TS_ON][i], PG_ON[i_PG], LF_ON[i_LF])\n",
    "        push!(PG_LF, pushval)\n",
    "    elseif i_PG != nothing && i_HF != nothing\n",
    "        pushval = (i, [[0.0] ; TS_ON][i], PG_ON[i_PG], HF_ON[i_HF])\n",
    "        push!(PG_HF, pushval)\n",
    "    elseif i_SG != nothing && i_LF != nothing\n",
    "        pushval = (i, [[0.0] ; TS_ON][i], SG_ON[i_SG], LF_ON[i_LF])\n",
    "        push!(SG_LF, pushval)\n",
    "    elseif i_SG != nothing && i_HF != nothing\n",
    "        pushval = (i, [[0.0] ; TS_ON][i], SG_ON[i_SG], LF_ON[i_HF])\n",
    "        push!(SG_HF, pushval)\n",
    "    end\n",
    "end"
   ]
  },
  {
   "cell_type": "code",
   "execution_count": 54,
   "metadata": {},
   "outputs": [],
   "source": [
    "PG_LF_Plts = Plots.Plot{Plots.GRBackend}[]\n",
    "\n",
    "for Trial ∈ 1:length(PG_LF)\n",
    "    p = plot()\n",
    "    for i ∈ 1:271\n",
    "        scatter!(p, spiketraintrials[PG_LF[Trial][1]][i], fill(i, length(spiketraintrials[PG_LF[Trial][1]][i])), marker = :vline, c = :black, alpha = 0.35)\n",
    "        plot!(p, title = \"Raster Plot\\n Type: PG_LF, trial number: n = $(PG_LF[Trial][1])\")\n",
    "    end\n",
    "    plot!(p, [PG_LF[Trial][2], PG_LF[Trial][2]], [0, 271], lw = 3, label = \"TS_ON\")\n",
    "    plot!(p, [PG_LF[Trial][3], PG_LF[Trial][3]], [0, 271], lw = 3, label = \"PG_ON\")\n",
    "    plot!(p, [PG_LF[Trial][4], PG_LF[Trial][4]], [0, 271], lw = 3, label = \"LF_ON\")\n",
    "    push!(PG_LF_Plts, p)\n",
    "end\n",
    "\n",
    "PG_HF_Plts = Plots.Plot{Plots.GRBackend}[]\n",
    "\n",
    "for Trial ∈ 1:length(PG_HF)\n",
    "    p = plot()\n",
    "    for i ∈ 1:271\n",
    "        scatter!(p, spiketraintrials[PG_HF[Trial][1]][i], fill(i, length(spiketraintrials[PG_HF[Trial][1]][i])), marker = :vline, c = :black, alpha = 0.35)\n",
    "        plot!(p, title = \"Raster Plot\\n trial n = $(PG_HF[Trial][1])\")\n",
    "    end\n",
    "    plot!(p, [PG_HF[Trial][2], PG_HF[Trial][2]], [0, 271], lw = 3, label = \"TS_ON\")\n",
    "    plot!(p, [PG_HF[Trial][3], PG_HF[Trial][3]], [0, 271], lw = 3, label = \"PG_ON\")\n",
    "    plot!(p, [PG_HF[Trial][4], PG_HF[Trial][4]], [0, 271], lw = 3, label = \"HF_ON\")\n",
    "    push!(PG_HF_Plts, p)\n",
    "end\n",
    "\n",
    "SG_LF_Plts = Plots.Plot{Plots.GRBackend}[]\n",
    "\n",
    "for Trial ∈ 1:length(SG_LF)\n",
    "    p = plot()\n",
    "    for i ∈ 1:271\n",
    "        scatter!(p, spiketraintrials[SG_LF[Trial][1]][i], fill(i, length(spiketraintrials[SG_LF[Trial][1]][i])), marker = :vline, c = :black, alpha = 0.35)\n",
    "        plot!(p, title = \"Raster Plot\\n Type: SG_LF, trial number: n = $(SG_LF[Trial][1])\")\n",
    "    end\n",
    "    plot!(p, [SG_LF[Trial][2], SG_LF[Trial][2]], [0, 271], lw = 3, label = \"TS_ON\")\n",
    "    plot!(p, [SG_LF[Trial][3], SG_LF[Trial][3]], [0, 271], lw = 3, label = \"SG_ON\")\n",
    "    plot!(p, [SG_LF[Trial][4], SG_LF[Trial][4]], [0, 271], lw = 3, label = \"LF_ON\")\n",
    "    push!(SG_LF_Plts, p)\n",
    "end\n",
    "\n",
    "SG_HF_Plts = Plots.Plot{Plots.GRBackend}[]\n",
    "\n",
    "for Trial ∈ 1:length(SG_HF)\n",
    "    p = plot()\n",
    "    for i ∈ 1:271\n",
    "        scatter!(p, spiketraintrials[SG_HF[Trial][1]][i], fill(i, length(spiketraintrials[SG_HF[Trial][1]][i])), marker = :vline, c = :black, alpha = 0.35)\n",
    "        plot!(p, title = \"Raster Plot\\n trial n = $(SG_HF[Trial][1])\")\n",
    "    end\n",
    "    plot!(p, [SG_HF[Trial][2], SG_HF[Trial][2]], [0, 271], lw = 3, label = \"TS_ON\")\n",
    "    plot!(p, [SG_HF[Trial][3], SG_HF[Trial][3]], [0, 271], lw = 3, label = \"SG_ON\")\n",
    "    plot!(p, [SG_HF[Trial][4], SG_HF[Trial][4]], [0, 271], lw = 3, label = \"HF_ON\")\n",
    "    push!(SG_HF_Plts, p)\n",
    "end"
   ]
  },
  {
   "cell_type": "code",
   "execution_count": 55,
   "metadata": {},
   "outputs": [],
   "source": [
    "for plt ∈ 1:length(PG_LF_Plts)\n",
    "    savefig(PG_LF_Plts[plt], figpath * \"PG_LF_Plts$plt.pdf\")\n",
    "end\n",
    "\n",
    "for plt ∈ 1:length(PG_HF_Plts)\n",
    "    savefig(PG_HF_Plts[plt], figpath * \"PG_HF_Plts$plt.pdf\")\n",
    "end\n",
    "\n",
    "for plt ∈ 1:length(SG_LF_Plts)\n",
    "    savefig(SG_LF_Plts[plt], figpath * \"SG_LF_Plts$plt.pdf\")\n",
    "end\n",
    "\n",
    "for plt ∈ 1:length(SG_HF_Plts)\n",
    "    savefig(SG_HF_Plts[plt], figpath * \"SG_HF_Plts$plt.pdf\")\n",
    "end"
   ]
  },
  {
   "cell_type": "code",
   "execution_count": 71,
   "metadata": {},
   "outputs": [],
   "source": [
    "PG_LF_Cut_Spike = []\n",
    "LF_Cut1 = Float64[]\n",
    "PG_Cut1 = Float64[]\n",
    "\n",
    "\n",
    "for Trial ∈ 1:length(PG_LF)\n",
    "    for i ∈ 1:271\n",
    "        for val ∈ (spiketraintrials[PG_LF[Trial][1]][i] .- PG_LF[Trial][2])\n",
    "            push!(PG_LF_Cut_Spike, (i, val))\n",
    "        end\n",
    "    end\n",
    "    push!(PG_Cut1, PG_LF[Trial][3] - PG_LF[Trial][2])\n",
    "    push!(LF_Cut1, PG_LF[Trial][4] - PG_LF[Trial][2])\n",
    "end\n",
    "\n",
    "PG_HF_Cut_Spike = []\n",
    "HF_Cut2 = Float64[]\n",
    "PG_Cut2 = Float64[]\n",
    "\n",
    "\n",
    "for Trial ∈ 1:length(PG_HF)\n",
    "    for i ∈ 1:271\n",
    "        for val ∈ (spiketraintrials[PG_HF[Trial][1]][i] .- PG_HF[Trial][2])\n",
    "            push!(PG_HF_Cut_Spike, (i, val))\n",
    "        end\n",
    "    end\n",
    "    push!(PG_Cut2, PG_HF[Trial][3] - PG_HF[Trial][2])\n",
    "    push!(HF_Cut2, PG_HF[Trial][4] - PG_HF[Trial][2])\n",
    "end\n",
    "\n",
    "SG_LF_Cut_Spike = []\n",
    "LF_Cut3 = Float64[]\n",
    "SG_Cut3 = Float64[]\n",
    "\n",
    "\n",
    "for Trial ∈ 1:length(SG_LF)\n",
    "    for i ∈ 1:271\n",
    "        for val ∈ (spiketraintrials[SG_LF[Trial][1]][i] .- SG_LF[Trial][2])\n",
    "            push!(SG_LF_Cut_Spike, (i, val))\n",
    "        end\n",
    "    end\n",
    "    push!(SG_Cut3, SG_LF[Trial][3] - SG_LF[Trial][2])\n",
    "    push!(LF_Cut3, SG_LF[Trial][4] - SG_LF[Trial][2])\n",
    "end\n",
    "\n",
    "SG_HF_Cut_Spike = []\n",
    "HF_Cut4 = Float64[]\n",
    "SG_Cut4 = Float64[]\n",
    "\n",
    "\n",
    "for Trial ∈ 1:length(SG_HF)\n",
    "    for i ∈ 1:271\n",
    "        for val ∈ (spiketraintrials[SG_HF[Trial][1]][i] .- SG_HF[Trial][2])\n",
    "            push!(SG_HF_Cut_Spike, (i, val))\n",
    "        end\n",
    "    end\n",
    "    push!(SG_Cut4, SG_HF[Trial][3] - SG_HF[Trial][2])\n",
    "    push!(HF_Cut4, SG_HF[Trial][4] - SG_HF[Trial][2])\n",
    "end"
   ]
  },
  {
   "cell_type": "code",
   "execution_count": null,
   "metadata": {},
   "outputs": [],
   "source": [
    "SG_HF[Trial][4] - SG_HF[Trial][2]"
   ]
  },
  {
   "cell_type": "code",
   "execution_count": 88,
   "metadata": {},
   "outputs": [
    {
     "data": {
      "text/plain": [
       "(47, 278.3353, 279.13986666666665, 342.8733)"
      ]
     },
     "execution_count": 88,
     "metadata": {},
     "output_type": "execute_result"
    }
   ],
   "source": [
    "SG_HF[10]"
   ]
  },
  {
   "cell_type": "code",
   "execution_count": 82,
   "metadata": {},
   "outputs": [],
   "source": [
    "scatter(getindex.(PG_LF_Cut_Spike, 2), getindex.(PG_LF_Cut_Spike, 1), m = :vline, alpha = 0.015, c = :black)\n",
    "plot!(xlabel = \"Time(s)\", ylabel = \"Neuron\", title = \"Raster Plot of all the PG_LF trials\")\n",
    "plot!([mean(LF_Cut1), mean(LF_Cut1)], [0, 271], c = :red, label = \"LF_ON\")\n",
    "plot!([mean(PG_Cut1), mean(PG_Cut1)], [0, 271], c = :blue, label = \"PG_ON\")\n",
    "savefig(figpath * \"Q7RasterPlot1.pdf\")"
   ]
  },
  {
   "cell_type": "code",
   "execution_count": 83,
   "metadata": {},
   "outputs": [],
   "source": [
    "scatter(getindex.(PG_HF_Cut_Spike, 2), getindex.(PG_HF_Cut_Spike, 1), m = :vline, alpha = 0.015, c = :black)\n",
    "plot!(xlabel = \"Time(s)\", ylabel = \"Neuron\", title = \"Raster Plot of all the PG_HF trials\")\n",
    "plot!([mean(HF_Cut2), mean(HF_Cut2)], [0, 271], c = :red, label = \"HF_ON\")\n",
    "plot!([mean(PG_Cut2), mean(PG_Cut2)], [0, 271], c = :blue, label = \"PG_ON\")\n",
    "savefig(figpath * \"Q7RasterPlot2.pdf\")"
   ]
  },
  {
   "cell_type": "code",
   "execution_count": 84,
   "metadata": {},
   "outputs": [],
   "source": [
    "scatter(getindex.(SG_LF_Cut_Spike, 2), getindex.(SG_LF_Cut_Spike, 1), m = :vline, alpha = 0.015, c = :black)\n",
    "plot!(xlabel = \"Time(s)\", ylabel = \"Neuron\", title = \"Raster Plot of all the SG_LF trials\")\n",
    "plot!([mean(LF_Cut3), mean(LF_Cut3)], [0, 271], c = :red, label = \"LF_ON\")\n",
    "plot!([mean(SG_Cut3), mean(SG_Cut3)], [0, 271], c = :blue, label = \"SG_ON\")\n",
    "savefig(figpath * \"Q7RasterPlot3.pdf\")"
   ]
  },
  {
   "cell_type": "code",
   "execution_count": 89,
   "metadata": {},
   "outputs": [],
   "source": [
    "scatter(getindex.(SG_HF_Cut_Spike, 2), getindex.(SG_HF_Cut_Spike, 1), m = :vline, alpha = 0.015, c = :black)\n",
    "plot!(xlabel = \"Time(s)\", ylabel = \"Neuron\", title = \"Raster Plot of all the SG_HF trials\")\n",
    "# plot!([mean(HF_Cut4), mean(HF_Cut4)], [0, 271], c = :red, label = \"HF_ON\")\n",
    "plot!([mean(SG_Cut4), mean(SG_Cut4)], [0, 271], c = :blue, label = \"SG_ON\")\n",
    "savefig(figpath * \"Q7RasterPlot4.pdf\")"
   ]
  }
 ],
 "metadata": {
  "kernelspec": {
   "display_name": "Julia 1.7.0",
   "language": "julia",
   "name": "julia-1.7"
  },
  "language_info": {
   "file_extension": ".jl",
   "mimetype": "application/julia",
   "name": "julia",
   "version": "1.7.0"
  },
  "orig_nbformat": 4
 },
 "nbformat": 4,
 "nbformat_minor": 2
}
