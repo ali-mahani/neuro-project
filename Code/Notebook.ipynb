{
 "cells": [
  {
   "cell_type": "code",
   "execution_count": 49,
   "metadata": {},
   "outputs": [],
   "source": [
    "using ProgressMeter, JLD, Statistics, MAT, Plots, StatsPlots, LaTeXStrings\n",
    "\n",
    "Plots.default(titlefontsize = 12, tickfontsize = 8, labelfontsize = 10,\n",
    "    fontfamily = \"Computer Modern\", frame = :box, label = nothing)\n",
    "\n",
    "figpath = \"../Figs/\"\n",
    "\n",
    "fileIn = matopen(\"i140703-001_lfp-spikes.mat\")\n",
    "Data = read(fileIn)\n",
    "close(fileIn)"
   ]
  },
  {
   "cell_type": "code",
   "execution_count": null,
   "metadata": {},
   "outputs": [],
   "source": [
    "events = Data[\"block\"][\"segments\"][1][\"events\"][1]\n",
    "\n",
    "TS_ON = events[\"times\"][findall(x -> x == \"65296\", events[\"labels\"])] ./ 30000\n",
    "WS_ON = events[\"times\"][findall(x -> x == \"65360\", events[\"labels\"])][1:2:end] ./ 30000\n",
    "CUE_ON = events[\"times\"][findall(x -> x == \"65365\" || x == \"65370\", events[\"labels\"])] ./ 30000\n",
    "CUE_OFF = events[\"times\"][findall(x -> x == \"65360\", events[\"labels\"])][2:2:end] ./ 30000\n",
    "GO_ON = events[\"times\"][findall(x -> x == \"65369\" || x == \"65366\", events[\"labels\"])] ./ 30000\n",
    "SR = events[\"times\"][findall(x -> x == \"65385\" || x == \"65382\", events[\"labels\"])] ./ 30000\n",
    "RW_ON = events[\"times\"][findall(x -> x == \"65509\" || x == \"65514\", events[\"labels\"])] ./ 30000\n",
    "GO_RW_OFF = events[\"times\"][findall(x -> x == \"65376\", events[\"labels\"])] ./ 30000\n",
    "STOP = events[\"times\"][findall(x -> x == \"65312\", events[\"labels\"])] ./ 30000\n",
    "spiketrains = [Data[\"block\"][\"segments\"][1, 1][\"spiketrains\"][i][\"times\"][:] for i ∈ 1:271] / 30000"
   ]
  },
  {
   "cell_type": "code",
   "execution_count": null,
   "metadata": {},
   "outputs": [],
   "source": [
    "Prog = Progress(271 * length(TS_ON))\n",
    "cutspiketrains = []\n",
    "for i ∈ 1:271\n",
    "    for j ∈ 1:length(TS_ON)\n",
    "        indices = findall(x -> x > [[0.0]; TS_ON][j] && x < [[0.0]; TS_ON][j+1], spiketrains[i])\n",
    "        push!(cutspiketrains, [(i, TS_ON[j] - spiketrains[i][n]) for n ∈ indices]...)\n",
    "        next!(Prog)\n",
    "    end\n",
    "end\n",
    "\n",
    "save(\"cutspiketrains.jld\", \"cutspiketrains\", cutspiketrains)"
   ]
  },
  {
   "cell_type": "code",
   "execution_count": null,
   "metadata": {},
   "outputs": [],
   "source": [
    "cutspiketrains = load(\"cutspiketrains.jld\")[\"cutspiketrains\"]"
   ]
  },
  {
   "cell_type": "code",
   "execution_count": 6,
   "metadata": {},
   "outputs": [],
   "source": [
    "spiketraintrials = Vector{Vector{Vector{Float64}}}(undef, 0)\n",
    "\n",
    "for i ∈ 1:length(TS_ON)\n",
    "    tineurons = Vector{Vector{Float64}}(undef, 0)\n",
    "    for j ∈ 1:271\n",
    "        indices = findall(x -> x > [[0.0]; TS_ON][i] && x < [[0.0]; TS_ON][i+1], spiketrains[j])\n",
    "        push!(tineurons, spiketrains[j][indices])\n",
    "    end\n",
    "    push!(spiketraintrials, tineurons)\n",
    "end"
   ]
  },
  {
   "cell_type": "code",
   "execution_count": 29,
   "metadata": {},
   "outputs": [],
   "source": [
    "cut_TS_ON = []\n",
    "\n",
    "for j ∈ 1:271\n",
    "    push!(cut_TS_ON, (j, 0))\n",
    "end\n"
   ]
  },
  {
   "cell_type": "code",
   "execution_count": 30,
   "metadata": {},
   "outputs": [],
   "source": [
    "\n",
    "cut_WS_ON = []\n",
    "\n",
    "for i ∈ 1:length(TS_ON)\n",
    "    indices = findall(x -> x > [[0.0]; TS_ON][i] && x < [[0.0]; TS_ON][i+1], WS_ON)\n",
    "    for j ∈ 1:271\n",
    "        push!(cut_WS_ON, [(j, TS_ON[i] - WS_ON[n]) for n ∈ indices]...)\n",
    "    end\n",
    "end\n"
   ]
  },
  {
   "cell_type": "code",
   "execution_count": 31,
   "metadata": {},
   "outputs": [],
   "source": [
    "\n",
    "cut_CUE_ON = []\n",
    "\n",
    "for i ∈ 1:length(TS_ON)\n",
    "    indices = findall(x -> x > [[0.0]; TS_ON][i] && x < [[0.0]; TS_ON][i+1], CUE_ON)\n",
    "    for j ∈ 1:271\n",
    "        push!(cut_CUE_ON, [(j, TS_ON[i] - CUE_ON[n]) for n ∈ indices]...)\n",
    "    end\n",
    "end\n"
   ]
  },
  {
   "cell_type": "code",
   "execution_count": 32,
   "metadata": {},
   "outputs": [],
   "source": [
    "\n",
    "cut_CUE_OFF = []\n",
    "\n",
    "for i ∈ 1:length(TS_ON)\n",
    "    indices = findall(x -> x > [[0.0]; TS_ON][i] && x < [[0.0]; TS_ON][i+1], CUE_OFF)\n",
    "    for j ∈ 1:271\n",
    "        push!(cut_CUE_OFF, [(j, TS_ON[i] - CUE_OFF[n]) for n ∈ indices]...)\n",
    "    end\n",
    "end\n"
   ]
  },
  {
   "cell_type": "code",
   "execution_count": 33,
   "metadata": {},
   "outputs": [],
   "source": [
    "\n",
    "cut_GO_ON = []\n",
    "\n",
    "for i ∈ 1:length(TS_ON)\n",
    "    indices = findall(x -> x > [[0.0]; TS_ON][i] && x < [[0.0]; TS_ON][i+1], GO_ON)\n",
    "    for j ∈ 1:271\n",
    "        push!(cut_GO_ON, [(j, TS_ON[i] - GO_ON[n]) for n ∈ indices]...)\n",
    "    end\n",
    "end\n"
   ]
  },
  {
   "cell_type": "code",
   "execution_count": 34,
   "metadata": {},
   "outputs": [],
   "source": [
    "\n",
    "cut_CUE_OFF = []\n",
    "\n",
    "for i ∈ 1:length(TS_ON)\n",
    "    indices = findall(x -> x > [[0.0]; TS_ON][i] && x < [[0.0]; TS_ON][i+1], CUE_OFF)\n",
    "    for j ∈ 1:271\n",
    "        push!(cut_CUE_OFF, [(j, TS_ON[i] - CUE_OFF[n]) for n ∈ indices]...)\n",
    "    end\n",
    "end\n"
   ]
  },
  {
   "cell_type": "code",
   "execution_count": 35,
   "metadata": {},
   "outputs": [],
   "source": [
    "\n",
    "cut_SR = []\n",
    "\n",
    "for i ∈ 1:length(TS_ON)\n",
    "    indices = findall(x -> x > [[0.0]; TS_ON][i] && x < [[0.0]; TS_ON][i+1], SR)\n",
    "    for j ∈ 1:271\n",
    "        push!(cut_SR, [(j, TS_ON[i] - SR[n]) for n ∈ indices]...)\n",
    "    end\n",
    "end\n"
   ]
  },
  {
   "cell_type": "code",
   "execution_count": 36,
   "metadata": {},
   "outputs": [],
   "source": [
    "\n",
    "cut_RW_ON = []\n",
    "\n",
    "for i ∈ 1:length(TS_ON)\n",
    "    indices = findall(x -> x > [[0.0]; TS_ON][i] && x < [[0.0]; TS_ON][i+1], RW_ON)\n",
    "    for j ∈ 1:271\n",
    "        push!(cut_RW_ON, [(j, TS_ON[i] - RW_ON[n]) for n ∈ indices]...)\n",
    "    end\n",
    "end\n"
   ]
  },
  {
   "cell_type": "code",
   "execution_count": 37,
   "metadata": {},
   "outputs": [],
   "source": [
    "\n",
    "cut_GO_RW_OFF = []\n",
    "\n",
    "for i ∈ 1:length(TS_ON)\n",
    "    indices = findall(x -> x > [[0.0]; TS_ON][i] && x < [[0.0]; TS_ON][i+1], GO_RW_OFF)\n",
    "    for j ∈ 1:271\n",
    "        push!(cut_GO_RW_OFF, [(j, TS_ON[i] - GO_RW_OFF[n]) for n ∈ indices]...)\n",
    "    end\n",
    "end\n"
   ]
  },
  {
   "cell_type": "code",
   "execution_count": 38,
   "metadata": {},
   "outputs": [],
   "source": [
    "\n",
    "cut_STOP = []\n",
    "\n",
    "for i ∈ 1:length(TS_ON)\n",
    "    indices = findall(x -> x > [[0.0]; TS_ON][i] && x < [[0.0]; TS_ON][i+1], STOP)\n",
    "    for j ∈ 1:271\n",
    "        push!(cut_STOP, [(j, TS_ON[i] - STOP[n]) for n ∈ indices]...)\n",
    "    end\n",
    "end"
   ]
  },
  {
   "cell_type": "code",
   "execution_count": 8,
   "metadata": {},
   "outputs": [],
   "source": [
    "scatter(getindex.(cutspiketrains, 2), getindex.(cutspiketrains, 1), marker = :vline, c = :black, alpha = 0.005)\n",
    "plot!(xlabel = \"Time(s)\", ylabel = \"Neuron\", title = \"Raster Plot of all the trials\")\n",
    "savefig(figpath * \"TotRasterPlot.pdf\")"
   ]
  },
  {
   "cell_type": "code",
   "execution_count": 9,
   "metadata": {},
   "outputs": [],
   "source": [
    "histogram(getindex.(cutspiketrains, 2), normalize = true, c = :black)\n",
    "plot!(title = \"PSTH Plot of all the trials\", xlabel = \"Time(s)\", ylabel = \"rate\")\n",
    "savefig(figpath * \"TotPSTHPlot.pdf\")"
   ]
  },
  {
   "cell_type": "code",
   "execution_count": 62,
   "metadata": {},
   "outputs": [],
   "source": [
    "histogram(getindex.(ShiftedTrials, 1), normalized = true, alpha = 0.65, label = \"WS_ON\")\n",
    "histogram!(getindex.(ShiftedTrials, 2), normalized = true, alpha = 0.65, label = \"CUE_ON\")\n",
    "histogram!(getindex.(ShiftedTrials, 3), normalized = true, alpha = 0.65, label = \"CUE_OFF\")\n",
    "histogram!(getindex.(ShiftedTrials, 4), normalized = true, alpha = 0.65, label = \"GO_ON\")\n",
    "histogram!(getindex.(ShiftedTrials, 5), normalized = true, alpha = 0.65, label = \"SR\")\n",
    "histogram!(getindex.(ShiftedTrials, 6), normalized = true, alpha = 0.65, label = \"RW_ON\")\n",
    "histogram!(getindex.(ShiftedTrials, 7), normalized = true, alpha = 0.65, label = \"STOP\")\n",
    "plot!(title = \"Distribution of events\", xlabel = \"Time(s)\", ylabel = \"rate\")\n",
    "savefig(figpath * \"EvDist.pdf\")"
   ]
  },
  {
   "cell_type": "code",
   "execution_count": 10,
   "metadata": {},
   "outputs": [],
   "source": [
    "CompleteTrials = []\n",
    "ShiftedTrials = []\n",
    "\n",
    "for i ∈ 1:length(TS_ON)\n",
    "    i1 = findfirst(x -> x > [[0.0]; TS_ON][i] && x < [[0.0]; TS_ON][i+1], WS_ON)\n",
    "    i2 = findfirst(x -> x > [[0.0]; TS_ON][i] && x < [[0.0]; TS_ON][i+1], CUE_ON)\n",
    "    i3 = findfirst(x -> x > [[0.0]; TS_ON][i] && x < [[0.0]; TS_ON][i+1], CUE_OFF)\n",
    "    i4 = findfirst(x -> x > [[0.0]; TS_ON][i] && x < [[0.0]; TS_ON][i+1], GO_ON)\n",
    "    i5 = findfirst(x -> x > [[0.0]; TS_ON][i] && x < [[0.0]; TS_ON][i+1], SR)\n",
    "    i6 = findfirst(x -> x > [[0.0]; TS_ON][i] && x < [[0.0]; TS_ON][i+1], RW_ON)\n",
    "    i7 = findfirst(x -> x > [[0.0]; TS_ON][i] && x < [[0.0]; TS_ON][i+1], STOP)\n",
    "    if nothing ∈ [i1, i2, i3, i4, i5, i6, i7]\n",
    "        continue\n",
    "    end\n",
    "    pushval1 = (i, TS_ON[i], WS_ON[i1], CUE_ON[i2], CUE_OFF[i3], GO_ON[i4], SR[i5], RW_ON[i6], STOP[i7])\n",
    "    pushval2 = (TS_ON[i] - WS_ON[i1], TS_ON[i] - CUE_ON[i2], TS_ON[i] - CUE_OFF[i3], TS_ON[i] - GO_ON[i4], TS_ON[i] - SR[i5], TS_ON[i] - RW_ON[i6], TS_ON[i] - STOP[i7])\n",
    "    push!(CompleteTrials, pushval1)\n",
    "    push!(ShiftedTrials, pushval2)\n",
    "end"
   ]
  },
  {
   "cell_type": "code",
   "execution_count": 26,
   "metadata": {},
   "outputs": [],
   "source": [
    "Plts = Plots.Plot{Plots.GRBackend}[]\n",
    "\n",
    "for Trial ∈ 1:length(CompleteTrials)\n",
    "    Trial = 5\n",
    "    p = plot()\n",
    "    for i ∈ 1:271\n",
    "        scatter!(p, spiketraintrials[CompleteTrials[Trial][1]][i], fill(i, length(spiketraintrials[CompleteTrials[Trial][1]][i])), marker = :vline, c = :black, alpha = 0.35)\n",
    "        plot!(p, title = \"Raster Plot\\n trial n = $(CompleteTrials[Trial][1])\")\n",
    "    end\n",
    "    plot!(p, [CompleteTrials[Trial][2], CompleteTrials[Trial][2]], [0, 271], lw = 3, label = \"WS_ON\")\n",
    "    plot!(p, [CompleteTrials[Trial][3], CompleteTrials[Trial][3]], [0, 271], lw = 3, label = \"CUE_ON\")\n",
    "    plot!(p, [CompleteTrials[Trial][4], CompleteTrials[Trial][4]], [0, 271], lw = 3, label = \"CUE_OFF\")\n",
    "    plot!(p, [CompleteTrials[Trial][5], CompleteTrials[Trial][5]], [0, 271], lw = 3, label = \"GO_ON\")\n",
    "    plot!(p, [CompleteTrials[Trial][6], CompleteTrials[Trial][6]], [0, 271], lw = 3, label = \"SR\")\n",
    "    plot!(p, [CompleteTrials[Trial][7], CompleteTrials[Trial][7]], [0, 271], lw = 3, label = \"RW_ON\")\n",
    "    plot!(p, [CompleteTrials[Trial][8], CompleteTrials[Trial][8]], [0, 271], lw = 3, label = \"STOP\")\n",
    "    push!(Plts, p)\n",
    "end"
   ]
  },
  {
   "cell_type": "code",
   "execution_count": 28,
   "metadata": {},
   "outputs": [],
   "source": [
    "for plt ∈ 1:length(Plts)\n",
    "    savefig(Plts[plt], figpath * \"SPK$plt.pdf\")\n",
    "end"
   ]
  },
  {
   "cell_type": "code",
   "execution_count": 40,
   "metadata": {},
   "outputs": [],
   "source": [
    "scatter(getindex.(cutspiketrains, 2), getindex.(cutspiketrains, 1), marker = :vline, c = :black, alpha = 0.01)\n",
    "\n",
    "scatter!(getindex.(cut_TS_ON, 2), getindex.(cut_TS_ON, 1), marker = :vline, c = :red, ms = 5, label = \"TS_ON\")\n",
    "\n",
    "scatter!(getindex.(cut_WS_ON, 2), getindex.(cut_WS_ON, 1), marker = :vline, c = :green, label = \"WS_ON\")\n",
    "\n",
    "scatter!(getindex.(cut_CUE_OFF, 2), getindex.(cut_CUE_OFF, 1), marker = :vline, c = :blue, label = \"CUE_OFF\")\n",
    "\n",
    "scatter!(getindex.(cut_GO_ON, 2), getindex.(cut_GO_ON, 1), marker = :vline, c = :purple, label = \"GO_ON\")\n",
    "\n",
    "scatter!(getindex.(cut_SR, 2), getindex.(cut_SR, 1), marker = :vline, c = :brown, label = \"SR\")\n",
    "\n",
    "scatter!(getindex.(cut_RW_ON, 2), getindex.(cut_RW_ON, 1), marker = :vline, c = :orange, label = \"RW_ON\")\n",
    "\n",
    "scatter!(getindex.(cut_GO_RW_OFF, 2), getindex.(cut_GO_RW_OFF, 1), marker = :vline, c = :yellow, label = \"GO_RW_OFF\")\n",
    "\n",
    "scatter!(getindex.(cut_STOP, 2), getindex.(cut_STOP, 1), marker = :vline, c = :black, label = \"STOP\")\n",
    "\n",
    "plot!(xlabel = \"Time(s)\", ylabel = \"Neuron\", title = \"Raster Plot of all the trials\")\n",
    "savefig(figpath * \"TotRasterPlot2.pdf\")"
   ]
  },
  {
   "cell_type": "code",
   "execution_count": 41,
   "metadata": {},
   "outputs": [
    {
     "data": {
      "text/plain": [
       "0.9811666666666667"
      ]
     },
     "execution_count": 41,
     "metadata": {},
     "output_type": "execute_result"
    }
   ],
   "source": [
    "getindex.(cutspiketrains, 2)"
   ]
  },
  {
   "cell_type": "code",
   "execution_count": 42,
   "metadata": {},
   "outputs": [
    {
     "data": {
      "text/plain": [
       "8.760366666666641"
      ]
     },
     "execution_count": 42,
     "metadata": {},
     "output_type": "execute_result"
    }
   ],
   "source": [
    "maximum(getindex.(cutspiketrains, 2))"
   ]
  },
  {
   "cell_type": "code",
   "execution_count": 45,
   "metadata": {},
   "outputs": [],
   "source": [
    "FF = Float64[]\n",
    "\n",
    "Tspan = range(0.01, 9; length = 100)\n",
    "\n",
    "for T ∈ Tspan\n",
    "    indices = findall(x -> x < T, getindex.(cutspiketrains, 2))\n",
    "    vals = getindex.(cutspiketrains, 2)[indices]\n",
    "    push!(FF, var(vals) / mean(vals))\n",
    "end"
   ]
  },
  {
   "cell_type": "code",
   "execution_count": 55,
   "metadata": {},
   "outputs": [],
   "source": [
    "plot(Tspan, FF, title = \"Fano factor\", xlabel = \"T(s)\", ylabel = L\"f_{\\tau}(T)\", c = :black, lw = 3)\n",
    "savefig(figpath * \"FF.pdf\")"
   ]
  }
 ],
 "metadata": {
  "kernelspec": {
   "display_name": "Julia 1.7.0",
   "language": "julia",
   "name": "julia-1.7"
  },
  "language_info": {
   "file_extension": ".jl",
   "mimetype": "application/julia",
   "name": "julia",
   "version": "1.7.0"
  },
  "orig_nbformat": 4
 },
 "nbformat": 4,
 "nbformat_minor": 2
}
