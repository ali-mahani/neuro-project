{
 "cells": [
  {
   "cell_type": "code",
   "execution_count": 1,
   "id": "e072f476-e516-4ce8-be29-f785935e791d",
   "metadata": {},
   "outputs": [
    {
     "data": {
      "text/plain": [
       "1:10"
      ]
     },
     "execution_count": 1,
     "metadata": {},
     "output_type": "execute_result"
    }
   ],
   "source": [
    "list = 1:10"
   ]
  },
  {
   "cell_type": "code",
   "execution_count": 5,
   "id": "40dc9505-1691-4636-9ec2-3b77a6f09523",
   "metadata": {},
   "outputs": [
    {
     "data": {
      "text/plain": [
       "1"
      ]
     },
     "execution_count": 5,
     "metadata": {},
     "output_type": "execute_result"
    }
   ],
   "source": [
    "list[1]"
   ]
  },
  {
   "cell_type": "code",
   "execution_count": 6,
   "id": "54a5205d-e30a-4bf7-8d5f-f58dfbc644d9",
   "metadata": {},
   "outputs": [],
   "source": [
    "using MAT"
   ]
  },
  {
   "cell_type": "code",
   "execution_count": 7,
   "id": "8c91eb65-df76-4f1c-9616-65d4ec849795",
   "metadata": {},
   "outputs": [
    {
     "data": {
      "text/plain": [
       "Dict{String, Any} with 1 entry:\n",
       "  \"block\" => Dict{String, Any}(\"an_connector_type\"=>\"CerePort\", \"an_conditions\"…"
      ]
     },
     "execution_count": 7,
     "metadata": {},
     "output_type": "execute_result"
    }
   ],
   "source": [
    "data = matread(\"../i140703-001_lfp-spikes.mat\")"
   ]
  },
  {
   "cell_type": "code",
   "execution_count": 25,
   "id": "4ca9889b-8e52-42b3-bd78-ecdca2e1b339",
   "metadata": {},
   "outputs": [
    {
     "data": {
      "text/plain": [
       "9"
      ]
     },
     "execution_count": 25,
     "metadata": {},
     "output_type": "execute_result"
    }
   ],
   "source": [
    "length(findall(x-> x == 1, data[\"block\"][\"segments\"][1,1][\"events\"][1,1][\"an_trial_id\"]))"
   ]
  }
 ],
 "metadata": {
  "kernelspec": {
   "display_name": "Julia 1.7.1",
   "language": "julia",
   "name": "julia-1.7"
  },
  "language_info": {
   "file_extension": ".jl",
   "mimetype": "application/julia",
   "name": "julia",
   "version": "1.7.1"
  }
 },
 "nbformat": 4,
 "nbformat_minor": 5
}
